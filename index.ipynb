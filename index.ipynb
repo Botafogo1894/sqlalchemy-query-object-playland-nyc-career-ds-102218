{
 "cells": [
  {
   "cell_type": "markdown",
   "metadata": {},
   "source": [
    "# SQLAlchemy Playland"
   ]
  },
  {
   "cell_type": "code",
   "execution_count": 22,
   "metadata": {},
   "outputs": [],
   "source": [
    "import pandas as pd\n",
    "from sqlalchemy import *\n",
    "from sqlalchemy.ext.declarative import declarative_base\n",
    "from sqlalchemy.orm import sessionmaker\n",
    "from sqlalchemy.sql import func"
   ]
  },
  {
   "cell_type": "code",
   "execution_count": 2,
   "metadata": {},
   "outputs": [],
   "source": [
    "Base = declarative_base()"
   ]
  },
  {
   "cell_type": "code",
   "execution_count": 3,
   "metadata": {},
   "outputs": [],
   "source": [
    "class Project(Base):\n",
    "    __tablename__ = \"projects\"\n",
    "    id = Column(Integer, primary_key=True)\n",
    "    name = Column(String)\n",
    "    category = Column(String)\n",
    "    main_category = Column(String)\n",
    "    currency = Column(String)\n",
    "    deadline = Column(Date)\n",
    "    goal = Column(Float)\n",
    "    launched = Column(Date)\n",
    "    pledged = Column(Float)\n",
    "    state = Column(String)\n",
    "    backers = Column(Integer)\n",
    "    country = Column(String)\n",
    "    \n",
    "engine = create_engine('sqlite:///kickstarter.db')"
   ]
  },
  {
   "cell_type": "code",
   "execution_count": 4,
   "metadata": {},
   "outputs": [],
   "source": [
    "engine = create_engine('sqlite:///kickstarter.db')\n",
    "chunks = pd.read_csv('./ks-projects-201801.csv')\n",
    "chunks.to_sql(name='projects', if_exists='append', con=engine)\n",
    "\n",
    "Base.metadata.create_all(engine)"
   ]
  },
  {
   "cell_type": "code",
   "execution_count": 5,
   "metadata": {},
   "outputs": [],
   "source": [
    "Session = sessionmaker(bind=engine)\n",
    "session = Session()"
   ]
  },
  {
   "cell_type": "markdown",
   "metadata": {},
   "source": [
    "## Query Challenges\n",
    "\n",
    "1. query the database with sqlalchemy to find the project named 'Beach Wrestling Documentary'\n",
    "    - set the variable `beach_wresting_documentary` equal to the result of this query\n",
    "    - return `beach_wresting_documentary.goal`\n",
    "        * 20000.0\n",
    "    - return `beach_wresting_documentary.backers`\n",
    "        * 36\n",
    "    - return `beach_wresting_documentary.state`\n",
    "        * successful\n",
    "2. collect a list of projects whose states are equal to 'successful'\n",
    "    - return the length of this list\n",
    "3. collect a list of projects whose pledged amounts are greater than or equal to their goal amounts\n",
    "    - check the length of this list of projects --> does the length of this list match the length of the list from (2)?\n",
    "4. collect a list of `main_category`s and each of their respective average `pledge`s\n",
    "    - **BONUS**: rewrite the query to order the returned list by highest average pledge to lowest"
   ]
  },
  {
   "cell_type": "code",
   "execution_count": 48,
   "metadata": {},
   "outputs": [],
   "source": [
    "# 1. beach_wresting_documentary\n",
    "beach_wresting_documentary = session.query(Project).filter(Project.name=='Beach Wrestling Documentary').first()"
   ]
  },
  {
   "cell_type": "code",
   "execution_count": 49,
   "metadata": {},
   "outputs": [
    {
     "data": {
      "text/plain": [
       "20000.0"
      ]
     },
     "execution_count": 49,
     "metadata": {},
     "output_type": "execute_result"
    }
   ],
   "source": [
    "beach_wresting_documentary.goal"
   ]
  },
  {
   "cell_type": "code",
   "execution_count": 50,
   "metadata": {},
   "outputs": [
    {
     "data": {
      "text/plain": [
       "36"
      ]
     },
     "execution_count": 50,
     "metadata": {},
     "output_type": "execute_result"
    }
   ],
   "source": [
    "beach_wresting_documentary.backers"
   ]
  },
  {
   "cell_type": "code",
   "execution_count": 51,
   "metadata": {},
   "outputs": [
    {
     "data": {
      "text/plain": [
       "'successful'"
      ]
     },
     "execution_count": 51,
     "metadata": {},
     "output_type": "execute_result"
    }
   ],
   "source": [
    "beach_wresting_documentary.state"
   ]
  },
  {
   "cell_type": "code",
   "execution_count": 53,
   "metadata": {},
   "outputs": [
    {
     "data": {
      "text/plain": [
       "133956"
      ]
     },
     "execution_count": 53,
     "metadata": {},
     "output_type": "execute_result"
    }
   ],
   "source": [
    "# 2. length of projects with successful state\n",
    "len(session.query(Project).filter(Project.state=='successful').all())"
   ]
  },
  {
   "cell_type": "code",
   "execution_count": 56,
   "metadata": {},
   "outputs": [
    {
     "data": {
      "text/plain": [
       "137042"
      ]
     },
     "execution_count": 56,
     "metadata": {},
     "output_type": "execute_result"
    }
   ],
   "source": [
    "# 3. num of projects with pledge >= goal\n",
    "num_of_projs = session.query(Project).filter(Project.pledged >= Project.goal).all()\n",
    "len(num_of_projs)"
   ]
  },
  {
   "cell_type": "code",
   "execution_count": 57,
   "metadata": {},
   "outputs": [],
   "source": [
    "# 4. average pledged amt for each main_category\n",
    "from sqlalchemy.sql import func\n",
    "average = session.query(Project.main_category, (func.avg(Project.pledged).label('average'))).group_by(Project.main_category).order_by(desc('average')).all()"
   ]
  },
  {
   "cell_type": "code",
   "execution_count": 58,
   "metadata": {},
   "outputs": [
    {
     "data": {
      "text/plain": [
       "[('Design', 27119.751279015596),\n",
       " ('Technology', 22586.16481377989),\n",
       " ('Games', 21865.173174193107),\n",
       " ('Comics', 6899.31118864957),\n",
       " ('Fashion', 6549.0318136395545),\n",
       " ('Film & Video', 6362.733852638248),\n",
       " ('Food', 5340.16326762052),\n",
       " ('Theater', 4097.224678823399),\n",
       " ('Music', 3992.7356015255427),\n",
       " ('Dance', 3690.7986836517994),\n",
       " ('Photography', 3664.6465766768615),\n",
       " ('Publishing', 3638.7163743291567),\n",
       " ('Art', 3606.970043689866),\n",
       " ('Journalism', 3218.085215562564),\n",
       " ('Crafts', 2016.1539470995554)]"
      ]
     },
     "execution_count": 58,
     "metadata": {},
     "output_type": "execute_result"
    }
   ],
   "source": [
    "average"
   ]
  },
  {
   "cell_type": "code",
   "execution_count": null,
   "metadata": {},
   "outputs": [],
   "source": []
  }
 ],
 "metadata": {
  "kernelspec": {
   "display_name": "Python 3",
   "language": "python",
   "name": "python3"
  },
  "language_info": {
   "codemirror_mode": {
    "name": "ipython",
    "version": 3
   },
   "file_extension": ".py",
   "mimetype": "text/x-python",
   "name": "python",
   "nbconvert_exporter": "python",
   "pygments_lexer": "ipython3",
   "version": "3.6.4"
  }
 },
 "nbformat": 4,
 "nbformat_minor": 2
}
