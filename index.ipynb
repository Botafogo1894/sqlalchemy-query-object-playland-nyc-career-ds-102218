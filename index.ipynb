{
 "cells": [
  {
   "cell_type": "markdown",
   "metadata": {},
   "source": [
    "# SQLAlchemy Playland"
   ]
  },
  {
   "cell_type": "code",
   "execution_count": 1,
   "metadata": {},
   "outputs": [],
   "source": [
    "import pandas as pd\n",
    "from sqlalchemy import *\n",
    "from sqlalchemy.ext.declarative import declarative_base\n",
    "from sqlalchemy.orm import sessionmaker\n",
    "from sqlalchemy.sql import func"
   ]
  },
  {
   "cell_type": "code",
   "execution_count": 2,
   "metadata": {},
   "outputs": [],
   "source": [
    "Base = declarative_base()"
   ]
  },
  {
   "cell_type": "code",
   "execution_count": 3,
   "metadata": {},
   "outputs": [],
   "source": [
    "class Project(Base):\n",
    "    __tablename__ = \"projects\"\n",
    "    id = Column(Integer, primary_key=True)\n",
    "    name = Column(String)\n",
    "    category = Column(String)\n",
    "    main_category = Column(String)\n",
    "    currency = Column(String)\n",
    "    deadline = Column(Date)\n",
    "    goal = Column(Float)\n",
    "    launched = Column(Date)\n",
    "    pledged = Column(Float)\n",
    "    state = Column(String)\n",
    "    backers = Column(Integer)\n",
    "    country = Column(String)\n",
    "    \n",
    "engine = create_engine('sqlite:///kickstarter.db')"
   ]
  },
  {
   "cell_type": "code",
   "execution_count": 4,
   "metadata": {},
   "outputs": [],
   "source": [
    "engine = create_engine('sqlite:///kickstarter.db')\n",
    "chunks = pd.read_csv('./ks-projects-201801.csv')\n",
    "chunks.to_sql(name='projects', if_exists='append', con=engine)\n",
    "\n",
    "Base.metadata.create_all(engine)"
   ]
  },
  {
   "cell_type": "code",
   "execution_count": 5,
   "metadata": {},
   "outputs": [],
   "source": [
    "Session = sessionmaker(bind=engine)\n",
    "session = Session()"
   ]
  },
  {
   "cell_type": "markdown",
   "metadata": {},
   "source": [
    "## Query Challenges\n",
    "\n",
    "1. query the database with sqlalchemy to find the project named 'Beach Wrestling Documentary'\n",
    "    - set the variable `beach_wresting_documentary` equal to the result of this query\n",
    "    - return `beach_wresting_documentary.goal`\n",
    "        * 20000.0\n",
    "    - return `beach_wresting_documentary.backers`\n",
    "        * 36\n",
    "    - return `beach_wresting_documentary.state`\n",
    "        * successful\n",
    "2. collect a list of projects whose states are equal to 'successful'\n",
    "    - return the length of this list\n",
    "3. collect a list of projects whose pledged amounts are greater than or equal to their goal amounts\n",
    "    - check the length of this list of projects --> does the length of this list match the length of the list from (2)?\n",
    "4. collect a list of `main_category`s and each of their respective average `pledge`s\n",
    "    - **BONUS**: rewrite the query to order the returned list by highest average pledge to lowest"
   ]
  },
  {
   "cell_type": "code",
   "execution_count": 6,
   "metadata": {},
   "outputs": [],
   "source": [
    "# 1. beach_wresting_documentary\n",
    "beach_wresting_documentary = session.query(Project).filter(Project.name=='Beach Wrestling Documentary').first()"
   ]
  },
  {
   "cell_type": "code",
   "execution_count": 7,
   "metadata": {},
   "outputs": [
    {
     "data": {
      "text/plain": [
       "20000.0"
      ]
     },
     "execution_count": 7,
     "metadata": {},
     "output_type": "execute_result"
    }
   ],
   "source": [
    "beach_wresting_documentary.goal"
   ]
  },
  {
   "cell_type": "code",
   "execution_count": 8,
   "metadata": {},
   "outputs": [
    {
     "data": {
      "text/plain": [
       "36"
      ]
     },
     "execution_count": 8,
     "metadata": {},
     "output_type": "execute_result"
    }
   ],
   "source": [
    "beach_wresting_documentary.backers"
   ]
  },
  {
   "cell_type": "code",
   "execution_count": 9,
   "metadata": {},
   "outputs": [
    {
     "data": {
      "text/plain": [
       "'successful'"
      ]
     },
     "execution_count": 9,
     "metadata": {},
     "output_type": "execute_result"
    }
   ],
   "source": [
    "beach_wresting_documentary.state"
   ]
  },
  {
   "cell_type": "code",
   "execution_count": 10,
   "metadata": {},
   "outputs": [
    {
     "data": {
      "text/plain": [
       "133956"
      ]
     },
     "execution_count": 10,
     "metadata": {},
     "output_type": "execute_result"
    }
   ],
   "source": [
    "# 2. length of projects with successful state\n",
    "len(session.query(Project).filter(Project.state=='successful').all())"
   ]
  },
  {
   "cell_type": "code",
   "execution_count": 11,
   "metadata": {},
   "outputs": [
    {
     "data": {
      "text/plain": [
       "137042"
      ]
     },
     "execution_count": 11,
     "metadata": {},
     "output_type": "execute_result"
    }
   ],
   "source": [
    "# 3. num of projects with pledge >= goal\n",
    "num_of_projs = session.query(Project).filter(Project.pledged >= Project.goal).all()\n",
    "len(num_of_projs)"
   ]
  },
  {
   "cell_type": "code",
   "execution_count": 12,
   "metadata": {},
   "outputs": [],
   "source": [
    "# 4. average pledged amt for each main_category\n",
    "from sqlalchemy.sql import func\n",
    "average = session.query(Project.main_category, (func.avg(Project.pledged).label('average'))).group_by(Project.main_category).order_by(desc('average')).all()"
   ]
  },
  {
   "cell_type": "code",
   "execution_count": 13,
   "metadata": {},
   "outputs": [
    {
     "data": {
      "text/plain": [
       "[('Design', 27119.751279015516),\n",
       " ('Technology', 22586.16481377993),\n",
       " ('Games', 21865.17317419308),\n",
       " ('Comics', 6899.311188649585),\n",
       " ('Fashion', 6549.031813639537),\n",
       " ('Film & Video', 6362.733852638202),\n",
       " ('Food', 5340.163267620515),\n",
       " ('Theater', 4097.224678823416),\n",
       " ('Music', 3992.7356015254877),\n",
       " ('Dance', 3690.798683651803),\n",
       " ('Photography', 3664.646576676872),\n",
       " ('Publishing', 3638.7163743291294),\n",
       " ('Art', 3606.9700436898243),\n",
       " ('Journalism', 3218.085215562566),\n",
       " ('Crafts', 2016.1539470995583)]"
      ]
     },
     "execution_count": 13,
     "metadata": {},
     "output_type": "execute_result"
    }
   ],
   "source": [
    "average"
   ]
  }
 ],
 "metadata": {
  "kernelspec": {
   "display_name": "Python 3",
   "language": "python",
   "name": "python3"
  },
  "language_info": {
   "codemirror_mode": {
    "name": "ipython",
    "version": 3
   },
   "file_extension": ".py",
   "mimetype": "text/x-python",
   "name": "python",
   "nbconvert_exporter": "python",
   "pygments_lexer": "ipython3",
   "version": "3.6.4"
  }
 },
 "nbformat": 4,
 "nbformat_minor": 2
}
