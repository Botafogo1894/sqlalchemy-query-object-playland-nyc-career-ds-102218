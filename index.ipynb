{
 "cells": [
  {
   "cell_type": "markdown",
   "metadata": {},
   "source": [
    "# SQLAlchemy Playland\n",
    "\n",
    "In the following cells, we use SQLAlchemy to create a database, a table in that database, and populate the table with a CSV file containing data about Kickstarter campaigns.  \n",
    "\n",
    "Below we will practice querying from our newly created table to discover interesting things about various Kickstarter projects!"
   ]
  },
  {
   "cell_type": "code",
   "execution_count": 1,
   "metadata": {},
   "outputs": [],
   "source": [
    "import pandas as pd\n",
    "from sqlalchemy import *\n",
    "from sqlalchemy.ext.declarative import declarative_base\n",
    "from sqlalchemy.orm import sessionmaker\n",
    "from sqlalchemy.sql import func"
   ]
  },
  {
   "cell_type": "code",
   "execution_count": 2,
   "metadata": {},
   "outputs": [],
   "source": [
    "Base = declarative_base()"
   ]
  },
  {
   "cell_type": "code",
   "execution_count": 3,
   "metadata": {},
   "outputs": [],
   "source": [
    "class Project(Base):\n",
    "    __tablename__ = \"projects\"\n",
    "    id = Column(Integer, primary_key=True)\n",
    "    name = Column(String)\n",
    "    category = Column(String)\n",
    "    main_category = Column(String)\n",
    "    currency = Column(String)\n",
    "    deadline = Column(Date)\n",
    "    goal = Column(Float)\n",
    "    launched = Column(Date)\n",
    "    pledged = Column(Float)\n",
    "    state = Column(String)\n",
    "    backers = Column(Integer)\n",
    "    country = Column(String)\n",
    "    \n",
    "engine = create_engine('sqlite:///kickstarter.db')"
   ]
  },
  {
   "cell_type": "code",
   "execution_count": 4,
   "metadata": {},
   "outputs": [],
   "source": [
    "# chunks = pd.read_csv('./ks-projects-201801.csv')\n",
    "# chunks.to_sql(name='projects', if_exists='append', con=engine)\n",
    "\n",
    "Base.metadata.create_all(engine)"
   ]
  },
  {
   "cell_type": "code",
   "execution_count": 5,
   "metadata": {},
   "outputs": [],
   "source": [
    "Session = sessionmaker(bind=engine)\n",
    "session = Session()"
   ]
  },
  {
   "cell_type": "markdown",
   "metadata": {},
   "source": [
    "## Query Challenges\n",
    "\n",
    "1. query the database with sqlalchemy to find the project named 'Beach Wrestling Documentary'\n",
    "    - set the variable `beach_wresting_documentary` equal to the result of this query\n",
    "    - return `beach_wresting_documentary.goal`\n",
    "        * 20000.0\n",
    "    - return `beach_wresting_documentary.backers`\n",
    "        * 36\n",
    "    - return `beach_wresting_documentary.state`\n",
    "        * successful\n",
    "2. collect a list of projects whose states are equal to 'successful'\n",
    "    - return the length of this list\n",
    "3. collect a list of projects whose pledged amounts are greater than or equal to their goal amounts\n",
    "    - check the length of this list of projects --> does the length of this list match the length of the list from (2)?\n",
    "\n",
    "4. Which project has the highest number of backers?\n",
    "  \n",
    "5. collect a list of `main_category`s and each of their respective average `pledge`s\n",
    "    - **BONUS**: rewrite the query to order the returned list by highest average pledge to lowest\n",
    "\n",
    "**Challenge**\n",
    "\n",
    "6. Which country has the highest percentage of successful projects?\n",
    "\n",
    "\n",
    "7. Plot a histogram for the number of items in each main_category.\n",
    "\n",
    "\n",
    "8. Is there a correlation between time of year and whether or not your project will be successfully backed? Investigate!"
   ]
  }
 ],
 "metadata": {
  "kernelspec": {
   "display_name": "Python 3",
   "language": "python",
   "name": "python3"
  },
  "language_info": {
   "codemirror_mode": {
    "name": "ipython",
    "version": 3
   },
   "file_extension": ".py",
   "mimetype": "text/x-python",
   "name": "python",
   "nbconvert_exporter": "python",
   "pygments_lexer": "ipython3",
   "version": "3.6.4"
  }
 },
 "nbformat": 4,
 "nbformat_minor": 2
}
